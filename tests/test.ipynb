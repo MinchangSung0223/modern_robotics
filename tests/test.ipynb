{
 "cells": [
  {
   "cell_type": "code",
   "execution_count": 1,
   "metadata": {},
   "outputs": [
    {
     "name": "stdout",
     "output_type": "stream",
     "text": [
      "============================JOINT_INFO====================================\n",
      "Joint Num :  0 \t Joint Name :  b'world_joint' \t Joint Type :  JOINT_FIXED\n",
      "Joint Num :  1 \t Joint Name :  b'joint0' \t Joint Type :  JOINT_REVOLUTE\n",
      "Joint Num :  2 \t Joint Name :  b'joint1' \t Joint Type :  JOINT_REVOLUTE\n",
      "Joint Num :  3 \t Joint Name :  b'joint2' \t Joint Type :  JOINT_REVOLUTE\n",
      "Joint Num :  4 \t Joint Name :  b'joint3' \t Joint Type :  JOINT_REVOLUTE\n",
      "Joint Num :  5 \t Joint Name :  b'joint4' \t Joint Type :  JOINT_REVOLUTE\n",
      "Joint Num :  6 \t Joint Name :  b'joint5' \t Joint Type :  JOINT_REVOLUTE\n",
      "Joint Num :  7 \t Joint Name :  b'tcp_joint' \t Joint Type :  JOINT_FIXED\n",
      "=========================================================================\n",
      "[b'joint0', b'joint1', b'joint2', b'joint3', b'joint4', b'joint5']\n"
     ]
    },
    {
     "ename": "",
     "evalue": "",
     "output_type": "error",
     "traceback": [
      "\u001b[1;31mThe Kernel crashed while executing code in the the current cell or a previous cell. Please review the code in the cell(s) to identify a possible cause of the failure. Click <a href='https://aka.ms/vscodeJupyterKernelCrash'>here</a> for more info. View Jupyter <a href='command:jupyter.viewOutput'>log</a> for further details."
     ]
    }
   ],
   "source": [
    "import sys, os\n",
    "import pybullet as p\n",
    "import time\n",
    "from math import *\n",
    "import json\n",
    "\n",
    "import modern_robotics as mr\n",
    "\n",
    "from Indy7  import *\n",
    "#--------------------------------------------\n",
    "## Env Setup\n",
    "CONTROL_FREQ = 1000.0\n",
    "endTime = 20;\n",
    "dt = 1/CONTROL_FREQ;\n",
    "urdf_name = \"model/indy7.urdf\"\n",
    "indy7 = Indy7(p,urdf_name = urdf_name, CONTROL_FREQ=CONTROL_FREQ)\n",
    "indy7.resetJointStates(np.array([ 0.   ,  0,-np.pi/2.0,0,-np.pi/2.0,0]).T);\n",
    "p.loadURDF(\"model/plane.urdf\")\n",
    "p.loadURDF(\"model/axis.urdf\")\n",
    "qddot = np.zeros([6,1])\n",
    "g = np.array([0,0,-9.8])\n",
    "Ftip = [0,0,0,0,0,0]\n",
    "\n",
    "# READ MR_INFO.JSON\n",
    "def read_json_file(file_path):\n",
    "    with open(file_path, 'r') as file:\n",
    "        data = json.load(file)\n",
    "    return data\n",
    "    \n",
    "json_file_path = 'MR_info.json'\n",
    "data_from_json = read_json_file(json_file_path)\n",
    "\n",
    "\n",
    "M=data_from_json['M']\n",
    "Slist = np.array(data_from_json['baseSlist'])\n",
    "Blist = np.array(data_from_json['baseBlist'])\n",
    "Mlist_ = np.array(data_from_json['Mlist'])\n",
    "Mlist = np.zeros([4,4,7]);\n",
    "Glist = np.zeros([6,6,6]);\n",
    "Glist=[]\n",
    "Mlist=[]\n",
    "for i in range(Mlist_.shape[0]):\n",
    "\tMlist.append(Mlist_[i,0:4,0:4]);\n",
    "Glist_ = np.array(data_from_json['Glist'])\n",
    "\n",
    "for i in range(Glist_.shape[0]):\n",
    "\tGlist.append(Glist_[i,0:6,0:6]);\n",
    "\t\n",
    "\t\n",
    "\t\n",
    "\n",
    "for t in np.arange(0,endTime,dt):\n",
    "\tq,qdot = indy7.getJointStates();\n",
    "\tT = FKinSpace(M,Slist,q);\n",
    "\tJs,Jb,Ja,pinvJs,pinvJb, pinvJa = indy7.getJacobian(M,Slist,Blist,q);\n",
    "\ttau_grav =mr.InverseDynamics(q, qdot, qddot, g, Ftip, Mlist,  Glist, Slist,0);\t\n",
    "\tindy7.setTorques(tau_grav)\n",
    "\tindy7.drawEEF();\n",
    "\tindy7.step()\n",
    "\ttime.sleep(dt)\n",
    "exit(0)\n"
   ]
  }
 ],
 "metadata": {
  "kernelspec": {
   "display_name": "Python 3",
   "language": "python",
   "name": "python3"
  },
  "language_info": {
   "codemirror_mode": {
    "name": "ipython",
    "version": 3
   },
   "file_extension": ".py",
   "mimetype": "text/x-python",
   "name": "python",
   "nbconvert_exporter": "python",
   "pygments_lexer": "ipython3",
   "version": "3.8.10"
  },
  "orig_nbformat": 4
 },
 "nbformat": 4,
 "nbformat_minor": 2
}
